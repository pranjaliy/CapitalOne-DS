{
 "cells": [
  {
   "attachments": {
    "image-4.png": {
     "image/png": "[encoded data removed]"
    }
   },
   "cell_type": "markdown",
   "id": "4161a07f",
   "metadata": {
    "slideshow": {
     "slide_type": "-"
    }
   },
   "source": [
    "![image-4.png](attachment:image-4.png)"
   ]
  },
  {
   "cell_type": "code",
   "execution_count": 48,
   "id": "5f814d09",
   "metadata": {
    "slideshow": {
     "slide_type": "-"
    }
   },
   "outputs": [],
   "source": [
    "import json\n",
    "import numpy as np\n",
    "import pandas as pd\n",
    "import seaborn as sns\n",
    "import matplotlib.pyplot as plt\n",
    "import matplotlib.style as style\n",
    "pd.options.display.max_columns = None\n",
    "pd.options.display.max_rows =30\n",
    "import random"
   ]
  },
  {
   "cell_type": "code",
   "execution_count": 49,
   "id": "035e516e",
   "metadata": {},
   "outputs": [
    {
     "data": {
      "text/html": [
       "<div>\n",
       "<style scoped>\n",
       "    .dataframe tbody tr th:only-of-type {\n",
       "        vertical-align: middle;\n",
       "    }\n",
       "\n",
       "    .dataframe tbody tr th {\n",
       "        vertical-align: top;\n",
       "    }\n",
       "\n",
       "    .dataframe thead th {\n",
       "        text-align: right;\n",
       "    }\n",
       "</style>\n",
       "<table border=\"1\" class=\"dataframe\">\n",
       "  <thead>\n",
       "    <tr style=\"text-align: right;\">\n",
       "      <th></th>\n",
       "      <th>accountNumber</th>\n",
       "      <th>customerId</th>\n",
       "      <th>creditLimit</th>\n",
       "      <th>availableMoney</th>\n",
       "      <th>transactionDateTime</th>\n",
       "      <th>transactionAmount</th>\n",
       "      <th>merchantName</th>\n",
       "      <th>acqCountry</th>\n",
       "      <th>merchantCountryCode</th>\n",
       "      <th>posEntryMode</th>\n",
       "      <th>posConditionCode</th>\n",
       "      <th>merchantCategoryCode</th>\n",
       "      <th>currentExpDate</th>\n",
       "      <th>accountOpenDate</th>\n",
       "      <th>dateOfLastAddressChange</th>\n",
       "      <th>cardCVV</th>\n",
       "      <th>enteredCVV</th>\n",
       "      <th>cardLast4Digits</th>\n",
       "      <th>transactionType</th>\n",
       "      <th>echoBuffer</th>\n",
       "      <th>currentBalance</th>\n",
       "      <th>merchantCity</th>\n",
       "      <th>merchantState</th>\n",
       "      <th>merchantZip</th>\n",
       "      <th>cardPresent</th>\n",
       "      <th>posOnPremises</th>\n",
       "      <th>recurringAuthInd</th>\n",
       "      <th>expirationDateKeyInMatch</th>\n",
       "      <th>isFraud</th>\n",
       "    </tr>\n",
       "  </thead>\n",
       "  <tbody>\n",
       "    <tr>\n",
       "      <th>0</th>\n",
       "      <td>737265056</td>\n",
       "      <td>737265056</td>\n",
       "      <td>5000</td>\n",
       "      <td>5000.0</td>\n",
       "      <td>2016-08-13T14:27:32</td>\n",
       "      <td>98.55</td>\n",
       "      <td>Uber</td>\n",
       "      <td>US</td>\n",
       "      <td>US</td>\n",
       "      <td>02</td>\n",
       "      <td>01</td>\n",
       "      <td>rideshare</td>\n",
       "      <td>06/2023</td>\n",
       "      <td>2015-03-14</td>\n",
       "      <td>2015-03-14</td>\n",
       "      <td>414</td>\n",
       "      <td>414</td>\n",
       "      <td>1803</td>\n",
       "      <td>PURCHASE</td>\n",
       "      <td></td>\n",
       "      <td>0.0</td>\n",
       "      <td></td>\n",
       "      <td></td>\n",
       "      <td></td>\n",
       "      <td>False</td>\n",
       "      <td></td>\n",
       "      <td></td>\n",
       "      <td>False</td>\n",
       "      <td>False</td>\n",
       "    </tr>\n",
       "    <tr>\n",
       "      <th>1</th>\n",
       "      <td>737265056</td>\n",
       "      <td>737265056</td>\n",
       "      <td>5000</td>\n",
       "      <td>5000.0</td>\n",
       "      <td>2016-10-11T05:05:54</td>\n",
       "      <td>74.51</td>\n",
       "      <td>AMC #191138</td>\n",
       "      <td>US</td>\n",
       "      <td>US</td>\n",
       "      <td>09</td>\n",
       "      <td>01</td>\n",
       "      <td>entertainment</td>\n",
       "      <td>02/2024</td>\n",
       "      <td>2015-03-14</td>\n",
       "      <td>2015-03-14</td>\n",
       "      <td>486</td>\n",
       "      <td>486</td>\n",
       "      <td>767</td>\n",
       "      <td>PURCHASE</td>\n",
       "      <td></td>\n",
       "      <td>0.0</td>\n",
       "      <td></td>\n",
       "      <td></td>\n",
       "      <td></td>\n",
       "      <td>True</td>\n",
       "      <td></td>\n",
       "      <td></td>\n",
       "      <td>False</td>\n",
       "      <td>False</td>\n",
       "    </tr>\n",
       "    <tr>\n",
       "      <th>2</th>\n",
       "      <td>737265056</td>\n",
       "      <td>737265056</td>\n",
       "      <td>5000</td>\n",
       "      <td>5000.0</td>\n",
       "      <td>2016-11-08T09:18:39</td>\n",
       "      <td>7.47</td>\n",
       "      <td>Play Store</td>\n",
       "      <td>US</td>\n",
       "      <td>US</td>\n",
       "      <td>09</td>\n",
       "      <td>01</td>\n",
       "      <td>mobileapps</td>\n",
       "      <td>08/2025</td>\n",
       "      <td>2015-03-14</td>\n",
       "      <td>2015-03-14</td>\n",
       "      <td>486</td>\n",
       "      <td>486</td>\n",
       "      <td>767</td>\n",
       "      <td>PURCHASE</td>\n",
       "      <td></td>\n",
       "      <td>0.0</td>\n",
       "      <td></td>\n",
       "      <td></td>\n",
       "      <td></td>\n",
       "      <td>False</td>\n",
       "      <td></td>\n",
       "      <td></td>\n",
       "      <td>False</td>\n",
       "      <td>False</td>\n",
       "    </tr>\n",
       "  </tbody>\n",
       "</table>\n",
       "</div>"
      ],
      "text/plain": [
       "   accountNumber  customerId  creditLimit  availableMoney  \\\n",
       "0      737265056   737265056         5000          5000.0   \n",
       "1      737265056   737265056         5000          5000.0   \n",
       "2      737265056   737265056         5000          5000.0   \n",
       "\n",
       "   transactionDateTime  transactionAmount merchantName acqCountry  \\\n",
       "0  2016-08-13T14:27:32              98.55         Uber         US   \n",
       "1  2016-10-11T05:05:54              74.51  AMC #191138         US   \n",
       "2  2016-11-08T09:18:39               7.47   Play Store         US   \n",
       "\n",
       "  merchantCountryCode posEntryMode posConditionCode merchantCategoryCode  \\\n",
       "0                  US           02               01            rideshare   \n",
       "1                  US           09               01        entertainment   \n",
       "2                  US           09               01           mobileapps   \n",
       "\n",
       "  currentExpDate accountOpenDate dateOfLastAddressChange  cardCVV  enteredCVV  \\\n",
       "0        06/2023      2015-03-14              2015-03-14      414         414   \n",
       "1        02/2024      2015-03-14              2015-03-14      486         486   \n",
       "2        08/2025      2015-03-14              2015-03-14      486         486   \n",
       "\n",
       "   cardLast4Digits transactionType echoBuffer  currentBalance merchantCity  \\\n",
       "0             1803        PURCHASE                        0.0                \n",
       "1              767        PURCHASE                        0.0                \n",
       "2              767        PURCHASE                        0.0                \n",
       "\n",
       "  merchantState merchantZip  cardPresent posOnPremises recurringAuthInd  \\\n",
       "0                                  False                                  \n",
       "1                                   True                                  \n",
       "2                                  False                                  \n",
       "\n",
       "   expirationDateKeyInMatch  isFraud  \n",
       "0                     False    False  \n",
       "1                     False    False  \n",
       "2                     False    False  "
      ]
     },
     "execution_count": 49,
     "metadata": {},
     "output_type": "execute_result"
    }
   ],
   "source": [
    "data = pd.read_json('transactions.txt',lines=True)\n",
    "data.head(3)"
   ]
  },
  {
   "cell_type": "code",
   "execution_count": 50,
   "id": "4ecf87b9",
   "metadata": {},
   "outputs": [
    {
     "name": "stdout",
     "output_type": "stream",
     "text": [
      "Number of rows in data are :  786363  and number of columns are  29\n"
     ]
    }
   ],
   "source": [
    "print(\"Number of rows in data are : \",len(data),' and number of columns are ',len(data.columns))"
   ]
  },
  {
   "cell_type": "markdown",
   "id": "696357f7",
   "metadata": {},
   "source": [
    "### There are 786363 rows and 29 columns in the data."
   ]
  },
  {
   "cell_type": "code",
   "execution_count": 51,
   "id": "12244570",
   "metadata": {},
   "outputs": [
    {
     "name": "stdout",
     "output_type": "stream",
     "text": [
      "<class 'pandas.core.frame.DataFrame'>\n",
      "RangeIndex: 786363 entries, 0 to 786362\n",
      "Data columns (total 29 columns):\n",
      " #   Column                    Non-Null Count   Dtype         \n",
      "---  ------                    --------------   -----         \n",
      " 0   accountNumber             786363 non-null  int64         \n",
      " 1   customerId                786363 non-null  int64         \n",
      " 2   creditLimit               786363 non-null  int64         \n",
      " 3   availableMoney            786363 non-null  float64       \n",
      " 4   transactionDateTime       786363 non-null  datetime64[ns]\n",
      " 5   transactionAmount         786363 non-null  float64       \n",
      " 6   merchantName              786363 non-null  object        \n",
      " 7   acqCountry                786363 non-null  object        \n",
      " 8   merchantCountryCode       786363 non-null  object        \n",
      " 9   posEntryMode              786363 non-null  object        \n",
      " 10  posConditionCode          786363 non-null  object        \n",
      " 11  merchantCategoryCode      786363 non-null  object        \n",
      " 12  currentExpDate            786363 non-null  object        \n",
      " 13  accountOpenDate           786363 non-null  object        \n",
      " 14  dateOfLastAddressChange   786363 non-null  object        \n",
      " 15  cardCVV                   786363 non-null  int64         \n",
      " 16  enteredCVV                786363 non-null  int64         \n",
      " 17  cardLast4Digits           786363 non-null  int64         \n",
      " 18  transactionType           786363 non-null  object        \n",
      " 19  echoBuffer                786363 non-null  object        \n",
      " 20  currentBalance            786363 non-null  float64       \n",
      " 21  merchantCity              786363 non-null  object        \n",
      " 22  merchantState             786363 non-null  object        \n",
      " 23  merchantZip               786363 non-null  object        \n",
      " 24  cardPresent               786363 non-null  bool          \n",
      " 25  posOnPremises             786363 non-null  object        \n",
      " 26  recurringAuthInd          786363 non-null  object        \n",
      " 27  expirationDateKeyInMatch  786363 non-null  bool          \n",
      " 28  isFraud                   786363 non-null  bool          \n",
      "dtypes: bool(3), datetime64[ns](1), float64(3), int64(6), object(16)\n",
      "memory usage: 158.2+ MB\n"
     ]
    }
   ],
   "source": [
    "data['transactionDateTime'] = pd.to_datetime(data['transactionDateTime'])\n",
    "data.info()"
   ]
  },
  {
   "cell_type": "markdown",
   "id": "bf8b688b",
   "metadata": {},
   "source": [
    "### The data head showed some blank values in Merchant City and State column, so replacing blanks with NaN."
   ]
  },
  {
   "cell_type": "code",
   "execution_count": 52,
   "id": "fd80b6e4",
   "metadata": {},
   "outputs": [],
   "source": [
    "data.replace('',np.nan,inplace=True)"
   ]
  },
  {
   "cell_type": "code",
   "execution_count": 53,
   "id": "a190ef56",
   "metadata": {
    "scrolled": false
   },
   "outputs": [
    {
     "name": "stdout",
     "output_type": "stream",
     "text": [
      "accountNumber                    0\n",
      "customerId                       0\n",
      "creditLimit                      0\n",
      "availableMoney                   0\n",
      "transactionDateTime              0\n",
      "transactionAmount                0\n",
      "merchantName                     0\n",
      "acqCountry                    4562\n",
      "merchantCountryCode            724\n",
      "posEntryMode                  4054\n",
      "posConditionCode               409\n",
      "merchantCategoryCode             0\n",
      "currentExpDate                   0\n",
      "accountOpenDate                  0\n",
      "dateOfLastAddressChange          0\n",
      "cardCVV                          0\n",
      "enteredCVV                       0\n",
      "cardLast4Digits                  0\n",
      "transactionType                698\n",
      "echoBuffer                  786363\n",
      "currentBalance                   0\n",
      "merchantCity                786363\n",
      "merchantState               786363\n",
      "merchantZip                 786363\n",
      "cardPresent                      0\n",
      "posOnPremises               786363\n",
      "recurringAuthInd            786363\n",
      "expirationDateKeyInMatch         0\n",
      "isFraud                          0\n",
      "dtype: int64\n"
     ]
    }
   ],
   "source": [
    "print(data.isnull().sum())"
   ]
  },
  {
   "cell_type": "markdown",
   "id": "3cd4013e",
   "metadata": {},
   "source": [
    "### Droping columns where all rows are blank/entire column is NaN"
   ]
  },
  {
   "cell_type": "code",
   "execution_count": 54,
   "id": "c9d3233c",
   "metadata": {},
   "outputs": [],
   "source": [
    "data.drop(['echoBuffer', 'merchantCity', 'merchantState', 'merchantZip','posOnPremises','recurringAuthInd'],axis=1,inplace=True)"
   ]
  },
  {
   "cell_type": "markdown",
   "id": "9b3a6b45",
   "metadata": {},
   "source": [
    "### Checking if accountNumber and customerID is always same in the entire data, if yes, droping one column"
   ]
  },
  {
   "cell_type": "code",
   "execution_count": 55,
   "id": "19db05e8",
   "metadata": {
    "scrolled": true
   },
   "outputs": [
    {
     "data": {
      "text/html": [
       "<div>\n",
       "<style scoped>\n",
       "    .dataframe tbody tr th:only-of-type {\n",
       "        vertical-align: middle;\n",
       "    }\n",
       "\n",
       "    .dataframe tbody tr th {\n",
       "        vertical-align: top;\n",
       "    }\n",
       "\n",
       "    .dataframe thead th {\n",
       "        text-align: right;\n",
       "    }\n",
       "</style>\n",
       "<table border=\"1\" class=\"dataframe\">\n",
       "  <thead>\n",
       "    <tr style=\"text-align: right;\">\n",
       "      <th></th>\n",
       "      <th>col</th>\n",
       "    </tr>\n",
       "  </thead>\n",
       "  <tbody>\n",
       "    <tr>\n",
       "      <th>equal</th>\n",
       "      <td>786363</td>\n",
       "    </tr>\n",
       "  </tbody>\n",
       "</table>\n",
       "</div>"
      ],
      "text/plain": [
       "          col\n",
       "equal  786363"
      ]
     },
     "execution_count": 55,
     "metadata": {},
     "output_type": "execute_result"
    }
   ],
   "source": [
    "data['col'] = np.where(data['accountNumber']==data['customerId'],'equal','not equal')\n",
    "data['col'].value_counts().to_frame()"
   ]
  },
  {
   "cell_type": "code",
   "execution_count": 56,
   "id": "1e42e564",
   "metadata": {},
   "outputs": [],
   "source": [
    "data.drop(['accountNumber', 'col'],axis=1,inplace=True)"
   ]
  },
  {
   "cell_type": "code",
   "execution_count": 57,
   "id": "8f80a151",
   "metadata": {
    "scrolled": false
   },
   "outputs": [
    {
     "data": {
      "text/html": [
       "<div>\n",
       "<style scoped>\n",
       "    .dataframe tbody tr th:only-of-type {\n",
       "        vertical-align: middle;\n",
       "    }\n",
       "\n",
       "    .dataframe tbody tr th {\n",
       "        vertical-align: top;\n",
       "    }\n",
       "\n",
       "    .dataframe thead th {\n",
       "        text-align: right;\n",
       "    }\n",
       "</style>\n",
       "<table border=\"1\" class=\"dataframe\">\n",
       "  <thead>\n",
       "    <tr style=\"text-align: right;\">\n",
       "      <th></th>\n",
       "      <th>customerId</th>\n",
       "      <th>creditLimit</th>\n",
       "      <th>availableMoney</th>\n",
       "      <th>transactionDateTime</th>\n",
       "      <th>transactionAmount</th>\n",
       "      <th>accountOpenDate</th>\n",
       "      <th>cardCVV</th>\n",
       "      <th>enteredCVV</th>\n",
       "      <th>cardLast4Digits</th>\n",
       "      <th>currentBalance</th>\n",
       "    </tr>\n",
       "  </thead>\n",
       "  <tbody>\n",
       "    <tr>\n",
       "      <th>count</th>\n",
       "      <td>7.863630e+05</td>\n",
       "      <td>786363.000000</td>\n",
       "      <td>786363.000000</td>\n",
       "      <td>786363</td>\n",
       "      <td>786363.000000</td>\n",
       "      <td>786363</td>\n",
       "      <td>786363.000000</td>\n",
       "      <td>786363.000000</td>\n",
       "      <td>786363.000000</td>\n",
       "      <td>786363.000000</td>\n",
       "    </tr>\n",
       "    <tr>\n",
       "      <th>mean</th>\n",
       "      <td>5.372326e+08</td>\n",
       "      <td>10759.464459</td>\n",
       "      <td>6250.725369</td>\n",
       "      <td>2016-07-06 01:58:58.395681536</td>\n",
       "      <td>136.985791</td>\n",
       "      <td>2014-02-03 01:11:17.352825856</td>\n",
       "      <td>544.467338</td>\n",
       "      <td>544.183857</td>\n",
       "      <td>4757.417799</td>\n",
       "      <td>4508.739089</td>\n",
       "    </tr>\n",
       "    <tr>\n",
       "      <th>min</th>\n",
       "      <td>1.000881e+08</td>\n",
       "      <td>250.000000</td>\n",
       "      <td>-1005.630000</td>\n",
       "      <td>2016-01-01 00:01:02</td>\n",
       "      <td>0.000000</td>\n",
       "      <td>1989-08-22 00:00:00</td>\n",
       "      <td>100.000000</td>\n",
       "      <td>0.000000</td>\n",
       "      <td>0.000000</td>\n",
       "      <td>0.000000</td>\n",
       "    </tr>\n",
       "    <tr>\n",
       "      <th>25%</th>\n",
       "      <td>3.301333e+08</td>\n",
       "      <td>5000.000000</td>\n",
       "      <td>1077.420000</td>\n",
       "      <td>2016-04-06 19:35:07</td>\n",
       "      <td>33.650000</td>\n",
       "      <td>2013-06-29 00:00:00</td>\n",
       "      <td>310.000000</td>\n",
       "      <td>310.000000</td>\n",
       "      <td>2178.000000</td>\n",
       "      <td>689.910000</td>\n",
       "    </tr>\n",
       "    <tr>\n",
       "      <th>50%</th>\n",
       "      <td>5.074561e+08</td>\n",
       "      <td>7500.000000</td>\n",
       "      <td>3184.860000</td>\n",
       "      <td>2016-07-08 05:03:57</td>\n",
       "      <td>87.900000</td>\n",
       "      <td>2014-09-05 00:00:00</td>\n",
       "      <td>535.000000</td>\n",
       "      <td>535.000000</td>\n",
       "      <td>4733.000000</td>\n",
       "      <td>2451.760000</td>\n",
       "    </tr>\n",
       "    <tr>\n",
       "      <th>75%</th>\n",
       "      <td>7.676200e+08</td>\n",
       "      <td>15000.000000</td>\n",
       "      <td>7500.000000</td>\n",
       "      <td>2016-10-05 13:52:03.500000</td>\n",
       "      <td>191.480000</td>\n",
       "      <td>2015-05-04 00:00:00</td>\n",
       "      <td>785.000000</td>\n",
       "      <td>785.000000</td>\n",
       "      <td>7338.000000</td>\n",
       "      <td>5291.095000</td>\n",
       "    </tr>\n",
       "    <tr>\n",
       "      <th>max</th>\n",
       "      <td>9.993896e+08</td>\n",
       "      <td>50000.000000</td>\n",
       "      <td>50000.000000</td>\n",
       "      <td>2016-12-30 23:59:45</td>\n",
       "      <td>2011.540000</td>\n",
       "      <td>2015-12-31 00:00:00</td>\n",
       "      <td>998.000000</td>\n",
       "      <td>998.000000</td>\n",
       "      <td>9998.000000</td>\n",
       "      <td>47498.810000</td>\n",
       "    </tr>\n",
       "    <tr>\n",
       "      <th>std</th>\n",
       "      <td>2.554211e+08</td>\n",
       "      <td>11636.174890</td>\n",
       "      <td>8880.783989</td>\n",
       "      <td>NaN</td>\n",
       "      <td>147.725569</td>\n",
       "      <td>NaN</td>\n",
       "      <td>261.524220</td>\n",
       "      <td>261.551254</td>\n",
       "      <td>2996.583810</td>\n",
       "      <td>6457.442068</td>\n",
       "    </tr>\n",
       "  </tbody>\n",
       "</table>\n",
       "</div>"
      ],
      "text/plain": [
       "         customerId    creditLimit  availableMoney  \\\n",
       "count  7.863630e+05  786363.000000   786363.000000   \n",
       "mean   5.372326e+08   10759.464459     6250.725369   \n",
       "min    1.000881e+08     250.000000    -1005.630000   \n",
       "25%    3.301333e+08    5000.000000     1077.420000   \n",
       "50%    5.074561e+08    7500.000000     3184.860000   \n",
       "75%    7.676200e+08   15000.000000     7500.000000   \n",
       "max    9.993896e+08   50000.000000    50000.000000   \n",
       "std    2.554211e+08   11636.174890     8880.783989   \n",
       "\n",
       "                 transactionDateTime  transactionAmount  \\\n",
       "count                         786363      786363.000000   \n",
       "mean   2016-07-06 01:58:58.395681536         136.985791   \n",
       "min              2016-01-01 00:01:02           0.000000   \n",
       "25%              2016-04-06 19:35:07          33.650000   \n",
       "50%              2016-07-08 05:03:57          87.900000   \n",
       "75%       2016-10-05 13:52:03.500000         191.480000   \n",
       "max              2016-12-30 23:59:45        2011.540000   \n",
       "std                              NaN         147.725569   \n",
       "\n",
       "                     accountOpenDate        cardCVV     enteredCVV  \\\n",
       "count                         786363  786363.000000  786363.000000   \n",
       "mean   2014-02-03 01:11:17.352825856     544.467338     544.183857   \n",
       "min              1989-08-22 00:00:00     100.000000       0.000000   \n",
       "25%              2013-06-29 00:00:00     310.000000     310.000000   \n",
       "50%              2014-09-05 00:00:00     535.000000     535.000000   \n",
       "75%              2015-05-04 00:00:00     785.000000     785.000000   \n",
       "max              2015-12-31 00:00:00     998.000000     998.000000   \n",
       "std                              NaN     261.524220     261.551254   \n",
       "\n",
       "       cardLast4Digits  currentBalance  \n",
       "count    786363.000000   786363.000000  \n",
       "mean       4757.417799     4508.739089  \n",
       "min           0.000000        0.000000  \n",
       "25%        2178.000000      689.910000  \n",
       "50%        4733.000000     2451.760000  \n",
       "75%        7338.000000     5291.095000  \n",
       "max        9998.000000    47498.810000  \n",
       "std        2996.583810     6457.442068  "
      ]
     },
     "execution_count": 57,
     "metadata": {},
     "output_type": "execute_result"
    }
   ],
   "source": [
    "data['transactionDateTime'] = pd.to_datetime(data['transactionDateTime'])\n",
    "data['accountOpenDate']=pd.to_datetime(data['accountOpenDate']) \n",
    "data.describe(datetime_is_numeric=True)"
   ]
  },
  {
   "cell_type": "markdown",
   "id": "235b79b7",
   "metadata": {},
   "source": [
    "### Quick Insights:\n",
    "#### 1. transactionDateTime shows that data is collected between Jan 2016-Dec 2016\n",
    "#### 2. more than 50% of the transactionAmount is below 100\n",
    "#### 3. the oldest account in the data is almost 25 years old"
   ]
  },
  {
   "cell_type": "code",
   "execution_count": 58,
   "id": "55b3a9bf",
   "metadata": {
    "scrolled": true
   },
   "outputs": [
    {
     "data": {
      "text/plain": [
       "Index(['customerId', 'creditLimit', 'availableMoney', 'transactionDateTime',\n",
       "       'transactionAmount', 'merchantName', 'acqCountry',\n",
       "       'merchantCountryCode', 'posEntryMode', 'posConditionCode',\n",
       "       'merchantCategoryCode', 'currentExpDate', 'accountOpenDate',\n",
       "       'dateOfLastAddressChange', 'cardCVV', 'enteredCVV', 'cardLast4Digits',\n",
       "       'transactionType', 'currentBalance', 'cardPresent',\n",
       "       'expirationDateKeyInMatch', 'isFraud'],\n",
       "      dtype='object')"
      ]
     },
     "execution_count": 58,
     "metadata": {},
     "output_type": "execute_result"
    }
   ],
   "source": [
    "data.columns"
   ]
  },
  {
   "cell_type": "code",
   "execution_count": 101,
   "id": "91b7491b",
   "metadata": {},
   "outputs": [
    {
     "name": "stdout",
     "output_type": "stream",
     "text": [
      "           customerId\n",
      "380680241       32850\n",
      "882815134       13189\n",
      "570884863       10867\n",
      "246251253       10172\n",
      "369308035        7229\n",
      "724518977        6283\n",
      "894938833        6101\n",
      "419709514        5930\n",
      "832842201        5850\n",
      "208319653        5235 \n",
      "\n",
      "\n",
      "            customerId\n",
      "380680241    0.041775\n",
      "882815134    0.016772\n",
      "570884863    0.013819\n",
      "246251253    0.012936\n",
      "369308035    0.009193\n",
      "724518977    0.007990\n",
      "894938833    0.007759\n",
      "419709514    0.007541\n",
      "832842201    0.007439\n",
      "208319653    0.006657\n"
     ]
    }
   ],
   "source": [
    "customerId=data['customerId'].value_counts().to_frame()\n",
    "print(customerId.head(10),\"\\n\\n\\n\",customerId.head(10)/len(data))"
   ]
  },
  {
   "cell_type": "markdown",
   "id": "88c92781",
   "metadata": {},
   "source": [
    "#### We see that customer 380680241 alone has 32k transactions, with is 4% of the entire data and so after checking if this is the oldest customer,  it's interesting to see that the account was only opened in 2014"
   ]
  },
  {
   "cell_type": "code",
   "execution_count": 108,
   "id": "8bd324d6",
   "metadata": {},
   "outputs": [
    {
     "data": {
      "text/plain": [
       "accountOpenDate  isFraud\n",
       "2014-06-21       False      32067\n",
       "                 True         783\n",
       "dtype: int64"
      ]
     },
     "execution_count": 108,
     "metadata": {},
     "output_type": "execute_result"
    }
   ],
   "source": [
    "data[data['customerId']==380680241][['accountOpenDate','isFraud']].value_counts()"
   ]
  },
  {
   "cell_type": "code",
   "execution_count": 62,
   "id": "e1af274c",
   "metadata": {
    "scrolled": true
   },
   "outputs": [
    {
     "data": {
      "text/html": [
       "<div>\n",
       "<style scoped>\n",
       "    .dataframe tbody tr th:only-of-type {\n",
       "        vertical-align: middle;\n",
       "    }\n",
       "\n",
       "    .dataframe tbody tr th {\n",
       "        vertical-align: top;\n",
       "    }\n",
       "\n",
       "    .dataframe thead th {\n",
       "        text-align: right;\n",
       "    }\n",
       "</style>\n",
       "<table border=\"1\" class=\"dataframe\">\n",
       "  <thead>\n",
       "    <tr style=\"text-align: right;\">\n",
       "      <th></th>\n",
       "      <th>creditLimit</th>\n",
       "    </tr>\n",
       "  </thead>\n",
       "  <tbody>\n",
       "    <tr>\n",
       "      <th>5000</th>\n",
       "      <td>201863</td>\n",
       "    </tr>\n",
       "    <tr>\n",
       "      <th>15000</th>\n",
       "      <td>139307</td>\n",
       "    </tr>\n",
       "    <tr>\n",
       "      <th>7500</th>\n",
       "      <td>97913</td>\n",
       "    </tr>\n",
       "    <tr>\n",
       "      <th>2500</th>\n",
       "      <td>75429</td>\n",
       "    </tr>\n",
       "    <tr>\n",
       "      <th>20000</th>\n",
       "      <td>68629</td>\n",
       "    </tr>\n",
       "    <tr>\n",
       "      <th>10000</th>\n",
       "      <td>56889</td>\n",
       "    </tr>\n",
       "    <tr>\n",
       "      <th>50000</th>\n",
       "      <td>48781</td>\n",
       "    </tr>\n",
       "    <tr>\n",
       "      <th>1000</th>\n",
       "      <td>36430</td>\n",
       "    </tr>\n",
       "    <tr>\n",
       "      <th>250</th>\n",
       "      <td>34025</td>\n",
       "    </tr>\n",
       "    <tr>\n",
       "      <th>500</th>\n",
       "      <td>27097</td>\n",
       "    </tr>\n",
       "  </tbody>\n",
       "</table>\n",
       "</div>"
      ],
      "text/plain": [
       "       creditLimit\n",
       "5000        201863\n",
       "15000       139307\n",
       "7500         97913\n",
       "2500         75429\n",
       "20000        68629\n",
       "10000        56889\n",
       "50000        48781\n",
       "1000         36430\n",
       "250          34025\n",
       "500          27097"
      ]
     },
     "execution_count": 62,
     "metadata": {},
     "output_type": "execute_result"
    }
   ],
   "source": [
    "creditLimit=data['creditLimit'].value_counts().sort_values(ascending=False).to_frame()\n",
    "creditLimit"
   ]
  },
  {
   "cell_type": "code",
   "execution_count": 115,
   "id": "004fda76",
   "metadata": {},
   "outputs": [
    {
     "data": {
      "text/plain": [
       "<AxesSubplot:>"
      ]
     },
     "execution_count": 115,
     "metadata": {},
     "output_type": "execute_result"
    },
    {
     "data": {
      "text/plain": [
       "<Figure size 720x360 with 0 Axes>"
      ]
     },
     "metadata": {},
     "output_type": "display_data"
    },
    {
     "data": {
      "image/png": "[encoded data removed]",
      "text/plain": [
       "<Figure size 432x288 with 1 Axes>"
      ]
     },
     "metadata": {
      "needs_background": "light"
     },
     "output_type": "display_data"
    }
   ],
   "source": [
    "plt.figure(figsize=(10,5))\n",
    "creditLimit.plot(kind='bar')"
   ]
  },
  {
   "cell_type": "markdown",
   "id": "9c25c98d",
   "metadata": {},
   "source": [
    "#### 20% of the transactions have creditLimit 5000,\n",
    "#### It's interesting to see that the range of transaction Amount is the same irrespective of the credit limit"
   ]
  },
  {
   "cell_type": "code",
   "execution_count": 83,
   "id": "9b87c2ee",
   "metadata": {},
   "outputs": [
    {
     "data": {
      "text/plain": [
       "<AxesSubplot:xlabel='creditLimit', ylabel='transactionAmount'>"
      ]
     },
     "execution_count": 83,
     "metadata": {},
     "output_type": "execute_result"
    },
    {
     "data": {
      "image/png": "[encoded data removed]",
      "text/plain": [
       "<Figure size 1440x720 with 1 Axes>"
      ]
     },
     "metadata": {
      "needs_background": "light"
     },
     "output_type": "display_data"
    }
   ],
   "source": [
    "plt.figure(figsize=(20,10))\n",
    "sns.boxplot(x = data['creditLimit'],\n",
    "            y = data['transactionAmount'],\n",
    "            hue = data['isFraud'],\n",
    "            palette = 'Set2')"
   ]
  },
  {
   "cell_type": "markdown",
   "id": "94358ec3",
   "metadata": {},
   "source": [
    "#### Linear relation between credit limit and spending"
   ]
  },
  {
   "cell_type": "code",
   "execution_count": 160,
   "id": "0c334d1e",
   "metadata": {},
   "outputs": [
    {
     "data": {
      "text/plain": [
       "<AxesSubplot:xlabel='creditLimit', ylabel='availableMoney'>"
      ]
     },
     "execution_count": 160,
     "metadata": {},
     "output_type": "execute_result"
    },
    {
     "data": {
      "image/png": "[encoded data removed]",
      "text/plain": [
       "<Figure size 720x360 with 1 Axes>"
      ]
     },
     "metadata": {
      "needs_background": "light"
     },
     "output_type": "display_data"
    }
   ],
   "source": [
    "plt.figure(figsize=(10,5))\n",
    "sns.boxplot(data=data,x='creditLimit', y='availableMoney')"
   ]
  },
  {
   "cell_type": "code",
   "execution_count": 94,
   "id": "456f4830",
   "metadata": {},
   "outputs": [
    {
     "data": {
      "text/plain": [
       "0.5388249447138281"
      ]
     },
     "execution_count": 94,
     "metadata": {},
     "output_type": "execute_result"
    }
   ],
   "source": [
    "len(data[data['transactionAmount']<100])/len(data)"
   ]
  },
  {
   "cell_type": "markdown",
   "id": "c7e6367f",
   "metadata": {},
   "source": [
    "#### We see 53% of the transactions done are below $100, so checking if we see the same pattern for Fraud cases"
   ]
  },
  {
   "cell_type": "code",
   "execution_count": 92,
   "id": "b5c2470f",
   "metadata": {
    "scrolled": true
   },
   "outputs": [
    {
     "data": {
      "text/plain": [
       "<AxesSubplot:xlabel='transactionAmount', ylabel='Count'>"
      ]
     },
     "execution_count": 92,
     "metadata": {},
     "output_type": "execute_result"
    },
    {
     "data": {
      "image/png": "[encoded data removed]",
      "text/plain": [
       "<Figure size 720x360 with 1 Axes>"
      ]
     },
     "metadata": {
      "needs_background": "light"
     },
     "output_type": "display_data"
    }
   ],
   "source": [
    "plt.figure(figsize=(10,5))\n",
    "sns.histplot(data=data, x='transactionAmount',bins=50,stat='count')"
   ]
  },
  {
   "cell_type": "code",
   "execution_count": 93,
   "id": "6e5861de",
   "metadata": {},
   "outputs": [
    {
     "data": {
      "text/plain": [
       "<AxesSubplot:xlabel='transactionAmount', ylabel='Count'>"
      ]
     },
     "execution_count": 93,
     "metadata": {},
     "output_type": "execute_result"
    },
    {
     "data": {
      "image/png": "[encoded data removed]",
      "text/plain": [
       "<Figure size 720x360 with 1 Axes>"
      ]
     },
     "metadata": {
      "needs_background": "light"
     },
     "output_type": "display_data"
    }
   ],
   "source": [
    "plt.figure(figsize=(10,5))\n",
    "sns.histplot(data=data[data['isFraud']==True], x='transactionAmount',bins=50,stat='count')"
   ]
  },
  {
   "cell_type": "code",
   "execution_count": 119,
   "id": "aef58350",
   "metadata": {
    "scrolled": true
   },
   "outputs": [
    {
     "data": {
      "text/plain": [
       "<AxesSubplot:>"
      ]
     },
     "execution_count": 119,
     "metadata": {},
     "output_type": "execute_result"
    },
    {
     "data": {
      "image/png": "[encoded data removed]",
      "text/plain": [
       "<Figure size 432x288 with 1 Axes>"
      ]
     },
     "metadata": {
      "needs_background": "light"
     },
     "output_type": "display_data"
    }
   ],
   "source": [
    "merchantName=data['merchantName'].value_counts().to_frame()\n",
    "merchantName.head(20).plot(kind='barh')"
   ]
  },
  {
   "cell_type": "markdown",
   "id": "d5181251",
   "metadata": {},
   "source": [
    "#### By looking at Merchant Names we can see the top categories are rideshare and online shopping websites.\n",
    "#### Tts interesting to see that merchantCategoryCode has fast food as the second most frequent category"
   ]
  },
  {
   "cell_type": "code",
   "execution_count": 161,
   "id": "0f8f6b18",
   "metadata": {
    "scrolled": false
   },
   "outputs": [
    {
     "data": {
      "text/html": [
       "<div>\n",
       "<style scoped>\n",
       "    .dataframe tbody tr th:only-of-type {\n",
       "        vertical-align: middle;\n",
       "    }\n",
       "\n",
       "    .dataframe tbody tr th {\n",
       "        vertical-align: top;\n",
       "    }\n",
       "\n",
       "    .dataframe thead th {\n",
       "        text-align: right;\n",
       "    }\n",
       "</style>\n",
       "<table border=\"1\" class=\"dataframe\">\n",
       "  <thead>\n",
       "    <tr style=\"text-align: right;\">\n",
       "      <th></th>\n",
       "      <th>merchantCategoryCode</th>\n",
       "      <th>%</th>\n",
       "    </tr>\n",
       "  </thead>\n",
       "  <tbody>\n",
       "    <tr>\n",
       "      <th>online_retail</th>\n",
       "      <td>202156</td>\n",
       "      <td>25.707720</td>\n",
       "    </tr>\n",
       "    <tr>\n",
       "      <th>fastfood</th>\n",
       "      <td>112138</td>\n",
       "      <td>14.260335</td>\n",
       "    </tr>\n",
       "    <tr>\n",
       "      <th>entertainment</th>\n",
       "      <td>80098</td>\n",
       "      <td>10.185881</td>\n",
       "    </tr>\n",
       "    <tr>\n",
       "      <th>food</th>\n",
       "      <td>75490</td>\n",
       "      <td>9.599892</td>\n",
       "    </tr>\n",
       "    <tr>\n",
       "      <th>online_gifts</th>\n",
       "      <td>66238</td>\n",
       "      <td>8.423336</td>\n",
       "    </tr>\n",
       "    <tr>\n",
       "      <th>rideshare</th>\n",
       "      <td>51136</td>\n",
       "      <td>6.502849</td>\n",
       "    </tr>\n",
       "    <tr>\n",
       "      <th>hotels</th>\n",
       "      <td>34097</td>\n",
       "      <td>4.336038</td>\n",
       "    </tr>\n",
       "    <tr>\n",
       "      <th>fuel</th>\n",
       "      <td>23910</td>\n",
       "      <td>3.040580</td>\n",
       "    </tr>\n",
       "    <tr>\n",
       "      <th>subscriptions</th>\n",
       "      <td>22901</td>\n",
       "      <td>2.912268</td>\n",
       "    </tr>\n",
       "    <tr>\n",
       "      <th>auto</th>\n",
       "      <td>21651</td>\n",
       "      <td>2.753309</td>\n",
       "    </tr>\n",
       "    <tr>\n",
       "      <th>health</th>\n",
       "      <td>19092</td>\n",
       "      <td>2.427886</td>\n",
       "    </tr>\n",
       "    <tr>\n",
       "      <th>personal care</th>\n",
       "      <td>18964</td>\n",
       "      <td>2.411609</td>\n",
       "    </tr>\n",
       "    <tr>\n",
       "      <th>airline</th>\n",
       "      <td>15412</td>\n",
       "      <td>1.959909</td>\n",
       "    </tr>\n",
       "    <tr>\n",
       "      <th>mobileapps</th>\n",
       "      <td>14990</td>\n",
       "      <td>1.906244</td>\n",
       "    </tr>\n",
       "    <tr>\n",
       "      <th>online_subscriptions</th>\n",
       "      <td>11067</td>\n",
       "      <td>1.407365</td>\n",
       "    </tr>\n",
       "    <tr>\n",
       "      <th>furniture</th>\n",
       "      <td>7432</td>\n",
       "      <td>0.945111</td>\n",
       "    </tr>\n",
       "    <tr>\n",
       "      <th>food_delivery</th>\n",
       "      <td>6000</td>\n",
       "      <td>0.763006</td>\n",
       "    </tr>\n",
       "    <tr>\n",
       "      <th>gym</th>\n",
       "      <td>2209</td>\n",
       "      <td>0.280914</td>\n",
       "    </tr>\n",
       "    <tr>\n",
       "      <th>cable/phone</th>\n",
       "      <td>1382</td>\n",
       "      <td>0.175746</td>\n",
       "    </tr>\n",
       "  </tbody>\n",
       "</table>\n",
       "</div>"
      ],
      "text/plain": [
       "                      merchantCategoryCode          %\n",
       "online_retail                       202156  25.707720\n",
       "fastfood                            112138  14.260335\n",
       "entertainment                        80098  10.185881\n",
       "food                                 75490   9.599892\n",
       "online_gifts                         66238   8.423336\n",
       "rideshare                            51136   6.502849\n",
       "hotels                               34097   4.336038\n",
       "fuel                                 23910   3.040580\n",
       "subscriptions                        22901   2.912268\n",
       "auto                                 21651   2.753309\n",
       "health                               19092   2.427886\n",
       "personal care                        18964   2.411609\n",
       "airline                              15412   1.959909\n",
       "mobileapps                           14990   1.906244\n",
       "online_subscriptions                 11067   1.407365\n",
       "furniture                             7432   0.945111\n",
       "food_delivery                         6000   0.763006\n",
       "gym                                   2209   0.280914\n",
       "cable/phone                           1382   0.175746"
      ]
     },
     "execution_count": 161,
     "metadata": {},
     "output_type": "execute_result"
    }
   ],
   "source": [
    "merchantCategoryCode=data['merchantCategoryCode'].value_counts().to_frame()\n",
    "merchantCategoryCode['%']=merchantCategoryCode/len(data)*100\n",
    "merchantCategoryCode"
   ]
  },
  {
   "cell_type": "code",
   "execution_count": 27,
   "id": "25849893",
   "metadata": {},
   "outputs": [
    {
     "data": {
      "text/plain": [
       "Text(0, 0.5, '# of Transations')"
      ]
     },
     "execution_count": 27,
     "metadata": {},
     "output_type": "execute_result"
    },
    {
     "data": {
      "image/png": "[encoded data removed]",
      "text/plain": [
       "<Figure size 432x288 with 1 Axes>"
      ]
     },
     "metadata": {
      "needs_background": "light"
     },
     "output_type": "display_data"
    }
   ],
   "source": [
    "merchantCategoryCode.plot(kind='bar')\n",
    "plt.xlabel('merchantCategoryCode')\n",
    "plt.ylabel('# of Transations')"
   ]
  },
  {
   "cell_type": "code",
   "execution_count": 130,
   "id": "e715f2fe",
   "metadata": {
    "scrolled": false
   },
   "outputs": [
    {
     "data": {
      "text/plain": [
       "<AxesSubplot:xlabel='transactionAmount', ylabel='merchantCategoryCode'>"
      ]
     },
     "execution_count": 130,
     "metadata": {},
     "output_type": "execute_result"
    },
    {
     "data": {
      "image/png": "[encoded data removed]",
      "text/plain": [
       "<Figure size 360x720 with 1 Axes>"
      ]
     },
     "metadata": {
      "needs_background": "light"
     },
     "output_type": "display_data"
    }
   ],
   "source": [
    "plt.figure(figsize=(5,10))\n",
    "sns.boxplot(y = data['merchantCategoryCode'],\n",
    "            x = data['transactionAmount'],\n",
    "            #hue = data['isFraud'],\n",
    "            palette = 'Set2')"
   ]
  },
  {
   "cell_type": "markdown",
   "id": "a2a937e7",
   "metadata": {},
   "source": [
    "### We see that 25% of transactions are online retail transactions but the range of transactionAmount is also large with possible outliers near 2000\n",
    "\n",
    "### We kind of see the same trend for fraud cases except unusal high number of online_gift fraud cases"
   ]
  },
  {
   "cell_type": "code",
   "execution_count": 140,
   "id": "08d60529",
   "metadata": {},
   "outputs": [
    {
     "data": {
      "text/plain": [
       "<AxesSubplot:>"
      ]
     },
     "execution_count": 140,
     "metadata": {},
     "output_type": "execute_result"
    },
    {
     "data": {
      "image/png": "[encoded data removed]",
      "text/plain": [
       "<Figure size 432x288 with 1 Axes>"
      ]
     },
     "metadata": {
      "needs_background": "light"
     },
     "output_type": "display_data"
    }
   ],
   "source": [
    "data[data['isFraud']==True]['merchantCategoryCode'].value_counts().plot(kind='barh')"
   ]
  },
  {
   "cell_type": "markdown",
   "id": "8b7dc01f",
   "metadata": {},
   "source": [
    "### We see that most of the transactions are done in US for acqCountry and merchantCountryCode"
   ]
  },
  {
   "cell_type": "code",
   "execution_count": 158,
   "id": "1d84421f",
   "metadata": {},
   "outputs": [
    {
     "data": {
      "text/html": [
       "<div>\n",
       "<style scoped>\n",
       "    .dataframe tbody tr th:only-of-type {\n",
       "        vertical-align: middle;\n",
       "    }\n",
       "\n",
       "    .dataframe tbody tr th {\n",
       "        vertical-align: top;\n",
       "    }\n",
       "\n",
       "    .dataframe thead th {\n",
       "        text-align: right;\n",
       "    }\n",
       "</style>\n",
       "<table border=\"1\" class=\"dataframe\">\n",
       "  <thead>\n",
       "    <tr style=\"text-align: right;\">\n",
       "      <th></th>\n",
       "      <th>acqCountry</th>\n",
       "      <th>%</th>\n",
       "    </tr>\n",
       "  </thead>\n",
       "  <tbody>\n",
       "    <tr>\n",
       "      <th>US</th>\n",
       "      <td>774709</td>\n",
       "      <td>98.517987</td>\n",
       "    </tr>\n",
       "    <tr>\n",
       "      <th>MEX</th>\n",
       "      <td>3130</td>\n",
       "      <td>0.398035</td>\n",
       "    </tr>\n",
       "    <tr>\n",
       "      <th>CAN</th>\n",
       "      <td>2424</td>\n",
       "      <td>0.308255</td>\n",
       "    </tr>\n",
       "    <tr>\n",
       "      <th>PR</th>\n",
       "      <td>1538</td>\n",
       "      <td>0.195584</td>\n",
       "    </tr>\n",
       "  </tbody>\n",
       "</table>\n",
       "</div>"
      ],
      "text/plain": [
       "     acqCountry          %\n",
       "US       774709  98.517987\n",
       "MEX        3130   0.398035\n",
       "CAN        2424   0.308255\n",
       "PR         1538   0.195584"
      ]
     },
     "execution_count": 158,
     "metadata": {},
     "output_type": "execute_result"
    }
   ],
   "source": [
    "acqCountry=data['acqCountry'].value_counts().to_frame()\n",
    "acqCountry['%'] = acqCountry/len(data)*100\n",
    "acqCountry\n"
   ]
  },
  {
   "cell_type": "code",
   "execution_count": 159,
   "id": "ebcfa0e9",
   "metadata": {
    "scrolled": true
   },
   "outputs": [
    {
     "data": {
      "text/html": [
       "<div>\n",
       "<style scoped>\n",
       "    .dataframe tbody tr th:only-of-type {\n",
       "        vertical-align: middle;\n",
       "    }\n",
       "\n",
       "    .dataframe tbody tr th {\n",
       "        vertical-align: top;\n",
       "    }\n",
       "\n",
       "    .dataframe thead th {\n",
       "        text-align: right;\n",
       "    }\n",
       "</style>\n",
       "<table border=\"1\" class=\"dataframe\">\n",
       "  <thead>\n",
       "    <tr style=\"text-align: right;\">\n",
       "      <th></th>\n",
       "      <th>merchantCountryCode</th>\n",
       "      <th>%</th>\n",
       "    </tr>\n",
       "  </thead>\n",
       "  <tbody>\n",
       "    <tr>\n",
       "      <th>US</th>\n",
       "      <td>778511</td>\n",
       "      <td>99.001479</td>\n",
       "    </tr>\n",
       "    <tr>\n",
       "      <th>MEX</th>\n",
       "      <td>3143</td>\n",
       "      <td>0.399688</td>\n",
       "    </tr>\n",
       "    <tr>\n",
       "      <th>CAN</th>\n",
       "      <td>2426</td>\n",
       "      <td>0.308509</td>\n",
       "    </tr>\n",
       "    <tr>\n",
       "      <th>PR</th>\n",
       "      <td>1559</td>\n",
       "      <td>0.198254</td>\n",
       "    </tr>\n",
       "  </tbody>\n",
       "</table>\n",
       "</div>"
      ],
      "text/plain": [
       "     merchantCountryCode          %\n",
       "US                778511  99.001479\n",
       "MEX                 3143   0.399688\n",
       "CAN                 2426   0.308509\n",
       "PR                  1559   0.198254"
      ]
     },
     "execution_count": 159,
     "metadata": {},
     "output_type": "execute_result"
    }
   ],
   "source": [
    "merchantCountryCode=data['merchantCountryCode'].value_counts().to_frame()\n",
    "merchantCountryCode['%'] = merchantCountryCode/len(data)*100\n",
    "merchantCountryCode"
   ]
  },
  {
   "cell_type": "markdown",
   "id": "2780bb9b",
   "metadata": {},
   "source": [
    "## Looking at other categorical variables in the data"
   ]
  },
  {
   "cell_type": "code",
   "execution_count": 22,
   "id": "a03abb83",
   "metadata": {},
   "outputs": [
    {
     "data": {
      "text/html": [
       "<div>\n",
       "<style scoped>\n",
       "    .dataframe tbody tr th:only-of-type {\n",
       "        vertical-align: middle;\n",
       "    }\n",
       "\n",
       "    .dataframe tbody tr th {\n",
       "        vertical-align: top;\n",
       "    }\n",
       "\n",
       "    .dataframe thead th {\n",
       "        text-align: right;\n",
       "    }\n",
       "</style>\n",
       "<table border=\"1\" class=\"dataframe\">\n",
       "  <thead>\n",
       "    <tr style=\"text-align: right;\">\n",
       "      <th></th>\n",
       "      <th>posEntryMode</th>\n",
       "    </tr>\n",
       "  </thead>\n",
       "  <tbody>\n",
       "    <tr>\n",
       "      <th>05</th>\n",
       "      <td>315035</td>\n",
       "    </tr>\n",
       "    <tr>\n",
       "      <th>09</th>\n",
       "      <td>236481</td>\n",
       "    </tr>\n",
       "    <tr>\n",
       "      <th>02</th>\n",
       "      <td>195934</td>\n",
       "    </tr>\n",
       "    <tr>\n",
       "      <th>90</th>\n",
       "      <td>19576</td>\n",
       "    </tr>\n",
       "    <tr>\n",
       "      <th>80</th>\n",
       "      <td>15283</td>\n",
       "    </tr>\n",
       "  </tbody>\n",
       "</table>\n",
       "</div>"
      ],
      "text/plain": [
       "    posEntryMode\n",
       "05        315035\n",
       "09        236481\n",
       "02        195934\n",
       "90         19576\n",
       "80         15283"
      ]
     },
     "execution_count": 22,
     "metadata": {},
     "output_type": "execute_result"
    }
   ],
   "source": [
    "posEntryMode=data['posEntryMode'].value_counts().to_frame()\n",
    "posEntryMode"
   ]
  },
  {
   "cell_type": "code",
   "execution_count": 23,
   "id": "0c9d1125",
   "metadata": {},
   "outputs": [
    {
     "data": {
      "text/plain": [
       "Text(0, 0.5, '# of Transations')"
      ]
     },
     "execution_count": 23,
     "metadata": {},
     "output_type": "execute_result"
    },
    {
     "data": {
      "image/png": "[encoded data removed]",
      "text/plain": [
       "<Figure size 432x288 with 1 Axes>"
      ]
     },
     "metadata": {
      "needs_background": "light"
     },
     "output_type": "display_data"
    }
   ],
   "source": [
    "sns.countplot(data=data, x='posEntryMode', hue='isFraud')\n",
    "plt.xlabel('posEntryMode')\n",
    "plt.ylabel('# of Transations')"
   ]
  },
  {
   "cell_type": "code",
   "execution_count": 24,
   "id": "79692eca",
   "metadata": {},
   "outputs": [
    {
     "data": {
      "text/html": [
       "<div>\n",
       "<style scoped>\n",
       "    .dataframe tbody tr th:only-of-type {\n",
       "        vertical-align: middle;\n",
       "    }\n",
       "\n",
       "    .dataframe tbody tr th {\n",
       "        vertical-align: top;\n",
       "    }\n",
       "\n",
       "    .dataframe thead th {\n",
       "        text-align: right;\n",
       "    }\n",
       "</style>\n",
       "<table border=\"1\" class=\"dataframe\">\n",
       "  <thead>\n",
       "    <tr style=\"text-align: right;\">\n",
       "      <th></th>\n",
       "      <th>posConditionCode</th>\n",
       "    </tr>\n",
       "  </thead>\n",
       "  <tbody>\n",
       "    <tr>\n",
       "      <th>01</th>\n",
       "      <td>628787</td>\n",
       "    </tr>\n",
       "    <tr>\n",
       "      <th>08</th>\n",
       "      <td>149634</td>\n",
       "    </tr>\n",
       "    <tr>\n",
       "      <th>99</th>\n",
       "      <td>7533</td>\n",
       "    </tr>\n",
       "  </tbody>\n",
       "</table>\n",
       "</div>"
      ],
      "text/plain": [
       "    posConditionCode\n",
       "01            628787\n",
       "08            149634\n",
       "99              7533"
      ]
     },
     "execution_count": 24,
     "metadata": {},
     "output_type": "execute_result"
    }
   ],
   "source": [
    "posConditionCode=data['posConditionCode'].value_counts().to_frame()\n",
    "posConditionCode"
   ]
  },
  {
   "cell_type": "code",
   "execution_count": 25,
   "id": "55195313",
   "metadata": {
    "scrolled": true
   },
   "outputs": [
    {
     "data": {
      "text/plain": [
       "Text(0, 0.5, '# of Transations')"
      ]
     },
     "execution_count": 25,
     "metadata": {},
     "output_type": "execute_result"
    },
    {
     "data": {
      "image/png": "[encoded data removed]",
      "text/plain": [
       "<Figure size 432x288 with 1 Axes>"
      ]
     },
     "metadata": {
      "needs_background": "light"
     },
     "output_type": "display_data"
    }
   ],
   "source": [
    "sns.countplot(data=data, x='posConditionCode', hue='isFraud')\n",
    "plt.xlabel('posConditionCode')\n",
    "plt.ylabel('# of Transations')"
   ]
  },
  {
   "cell_type": "markdown",
   "id": "d17f2922",
   "metadata": {},
   "source": [
    "### Very less reversal or address_verfication cases in the data"
   ]
  },
  {
   "cell_type": "code",
   "execution_count": 135,
   "id": "fe1e778c",
   "metadata": {},
   "outputs": [
    {
     "data": {
      "text/html": [
       "<div>\n",
       "<style scoped>\n",
       "    .dataframe tbody tr th:only-of-type {\n",
       "        vertical-align: middle;\n",
       "    }\n",
       "\n",
       "    .dataframe tbody tr th {\n",
       "        vertical-align: top;\n",
       "    }\n",
       "\n",
       "    .dataframe thead th {\n",
       "        text-align: right;\n",
       "    }\n",
       "</style>\n",
       "<table border=\"1\" class=\"dataframe\">\n",
       "  <thead>\n",
       "    <tr style=\"text-align: right;\">\n",
       "      <th></th>\n",
       "      <th>transactionType</th>\n",
       "      <th>%</th>\n",
       "    </tr>\n",
       "  </thead>\n",
       "  <tbody>\n",
       "    <tr>\n",
       "      <th>PURCHASE</th>\n",
       "      <td>745193</td>\n",
       "      <td>94.764504</td>\n",
       "    </tr>\n",
       "    <tr>\n",
       "      <th>REVERSAL</th>\n",
       "      <td>20303</td>\n",
       "      <td>2.581886</td>\n",
       "    </tr>\n",
       "    <tr>\n",
       "      <th>ADDRESS_VERIFICATION</th>\n",
       "      <td>20169</td>\n",
       "      <td>2.564846</td>\n",
       "    </tr>\n",
       "  </tbody>\n",
       "</table>\n",
       "</div>"
      ],
      "text/plain": [
       "                      transactionType          %\n",
       "PURCHASE                       745193  94.764504\n",
       "REVERSAL                        20303   2.581886\n",
       "ADDRESS_VERIFICATION            20169   2.564846"
      ]
     },
     "execution_count": 135,
     "metadata": {},
     "output_type": "execute_result"
    }
   ],
   "source": [
    "transactionType=data['transactionType'].value_counts().to_frame()\n",
    "transactionType['%']=transactionType/len(data)*100\n",
    "transactionType"
   ]
  },
  {
   "cell_type": "code",
   "execution_count": 29,
   "id": "fee586d1",
   "metadata": {},
   "outputs": [
    {
     "data": {
      "text/plain": [
       "Text(0, 0.5, '# of Transations')"
      ]
     },
     "execution_count": 29,
     "metadata": {},
     "output_type": "execute_result"
    },
    {
     "data": {
      "image/png": "[encoded data removed]",
      "text/plain": [
       "<Figure size 432x288 with 1 Axes>"
      ]
     },
     "metadata": {
      "needs_background": "light"
     },
     "output_type": "display_data"
    }
   ],
   "source": [
    "sns.countplot(data=data, x='transactionType', hue='isFraud')\n",
    "plt.xlabel('Transation Type')\n",
    "plt.ylabel('# of Transations')"
   ]
  },
  {
   "cell_type": "code",
   "execution_count": 141,
   "id": "b2626d0a",
   "metadata": {},
   "outputs": [
    {
     "data": {
      "text/html": [
       "<div>\n",
       "<style scoped>\n",
       "    .dataframe tbody tr th:only-of-type {\n",
       "        vertical-align: middle;\n",
       "    }\n",
       "\n",
       "    .dataframe tbody tr th {\n",
       "        vertical-align: top;\n",
       "    }\n",
       "\n",
       "    .dataframe thead th {\n",
       "        text-align: right;\n",
       "    }\n",
       "</style>\n",
       "<table border=\"1\" class=\"dataframe\">\n",
       "  <thead>\n",
       "    <tr style=\"text-align: right;\">\n",
       "      <th></th>\n",
       "      <th>cardPresent</th>\n",
       "    </tr>\n",
       "  </thead>\n",
       "  <tbody>\n",
       "    <tr>\n",
       "      <th>False</th>\n",
       "      <td>433495</td>\n",
       "    </tr>\n",
       "    <tr>\n",
       "      <th>True</th>\n",
       "      <td>352868</td>\n",
       "    </tr>\n",
       "  </tbody>\n",
       "</table>\n",
       "</div>"
      ],
      "text/plain": [
       "       cardPresent\n",
       "False       433495\n",
       "True        352868"
      ]
     },
     "execution_count": 141,
     "metadata": {},
     "output_type": "execute_result"
    }
   ],
   "source": [
    "cardPresent=data['cardPresent'].value_counts().to_frame()\n",
    "cardPresent"
   ]
  },
  {
   "cell_type": "code",
   "execution_count": 142,
   "id": "b9b425d3",
   "metadata": {},
   "outputs": [
    {
     "data": {
      "text/plain": [
       "Text(0.5, 1.0, '# of Transations if Fraud and not Fraud when card present')"
      ]
     },
     "execution_count": 142,
     "metadata": {},
     "output_type": "execute_result"
    },
    {
     "data": {
      "image/png": "[encoded data removed]",
      "text/plain": [
       "<Figure size 432x288 with 1 Axes>"
      ]
     },
     "metadata": {
      "needs_background": "light"
     },
     "output_type": "display_data"
    }
   ],
   "source": [
    "sns.countplot(data=data, x='cardPresent', hue='isFraud')\n",
    "plt.xlabel('Is Fraud')\n",
    "plt.ylabel('# of Transations')\n",
    "plt.title('# of Transations if Fraud and not Fraud when card present')"
   ]
  },
  {
   "cell_type": "code",
   "execution_count": 146,
   "id": "fd55161a",
   "metadata": {},
   "outputs": [
    {
     "data": {
      "text/html": [
       "<div>\n",
       "<style scoped>\n",
       "    .dataframe tbody tr th:only-of-type {\n",
       "        vertical-align: middle;\n",
       "    }\n",
       "\n",
       "    .dataframe tbody tr th {\n",
       "        vertical-align: top;\n",
       "    }\n",
       "\n",
       "    .dataframe thead th {\n",
       "        text-align: right;\n",
       "    }\n",
       "</style>\n",
       "<table border=\"1\" class=\"dataframe\">\n",
       "  <thead>\n",
       "    <tr style=\"text-align: right;\">\n",
       "      <th></th>\n",
       "      <th></th>\n",
       "      <th>0</th>\n",
       "    </tr>\n",
       "    <tr>\n",
       "      <th>expirationDateKeyInMatch</th>\n",
       "      <th>isFraud</th>\n",
       "      <th></th>\n",
       "    </tr>\n",
       "  </thead>\n",
       "  <tbody>\n",
       "    <tr>\n",
       "      <th rowspan=\"2\" valign=\"top\">False</th>\n",
       "      <th>False</th>\n",
       "      <td>772916</td>\n",
       "    </tr>\n",
       "    <tr>\n",
       "      <th>True</th>\n",
       "      <td>12404</td>\n",
       "    </tr>\n",
       "    <tr>\n",
       "      <th rowspan=\"2\" valign=\"top\">True</th>\n",
       "      <th>False</th>\n",
       "      <td>1030</td>\n",
       "    </tr>\n",
       "    <tr>\n",
       "      <th>True</th>\n",
       "      <td>13</td>\n",
       "    </tr>\n",
       "  </tbody>\n",
       "</table>\n",
       "</div>"
      ],
      "text/plain": [
       "                                       0\n",
       "expirationDateKeyInMatch isFraud        \n",
       "False                    False    772916\n",
       "                         True      12404\n",
       "True                     False      1030\n",
       "                         True         13"
      ]
     },
     "execution_count": 146,
     "metadata": {},
     "output_type": "execute_result"
    }
   ],
   "source": [
    "expirationDateKeyInMatch=data[['expirationDateKeyInMatch','isFraud']].value_counts().to_frame()\n",
    "expirationDateKeyInMatch"
   ]
  },
  {
   "cell_type": "code",
   "execution_count": 145,
   "id": "57c3173d",
   "metadata": {},
   "outputs": [
    {
     "data": {
      "text/plain": [
       "Text(0.5, 1.0, '# of Transations if Fraud and not Fraud for expirationDateKeyInMatch')"
      ]
     },
     "execution_count": 145,
     "metadata": {},
     "output_type": "execute_result"
    },
    {
     "data": {
      "image/png": "[encoded data removed]",
      "text/plain": [
       "<Figure size 432x288 with 1 Axes>"
      ]
     },
     "metadata": {
      "needs_background": "light"
     },
     "output_type": "display_data"
    }
   ],
   "source": [
    "sns.countplot(data=data, x='expirationDateKeyInMatch', hue='isFraud')\n",
    "plt.xlabel('Is Fraud')\n",
    "plt.ylabel('# of Transations')\n",
    "plt.title('# of Transations if Fraud and not Fraud for expirationDateKeyInMatch')"
   ]
  },
  {
   "cell_type": "code",
   "execution_count": 157,
   "id": "1c0054cd",
   "metadata": {},
   "outputs": [
    {
     "data": {
      "text/html": [
       "<div>\n",
       "<style scoped>\n",
       "    .dataframe tbody tr th:only-of-type {\n",
       "        vertical-align: middle;\n",
       "    }\n",
       "\n",
       "    .dataframe tbody tr th {\n",
       "        vertical-align: top;\n",
       "    }\n",
       "\n",
       "    .dataframe thead th {\n",
       "        text-align: right;\n",
       "    }\n",
       "</style>\n",
       "<table border=\"1\" class=\"dataframe\">\n",
       "  <thead>\n",
       "    <tr style=\"text-align: right;\">\n",
       "      <th></th>\n",
       "      <th>isFraud</th>\n",
       "      <th>%</th>\n",
       "    </tr>\n",
       "  </thead>\n",
       "  <tbody>\n",
       "    <tr>\n",
       "      <th>False</th>\n",
       "      <td>773946</td>\n",
       "      <td>98.420958</td>\n",
       "    </tr>\n",
       "    <tr>\n",
       "      <th>True</th>\n",
       "      <td>12417</td>\n",
       "      <td>1.579042</td>\n",
       "    </tr>\n",
       "  </tbody>\n",
       "</table>\n",
       "</div>"
      ],
      "text/plain": [
       "       isFraud          %\n",
       "False   773946  98.420958\n",
       "True     12417   1.579042"
      ]
     },
     "execution_count": 157,
     "metadata": {},
     "output_type": "execute_result"
    }
   ],
   "source": [
    "isFraud=data['isFraud'].value_counts().to_frame()\n",
    "isFraud['%'] = isFraud/len(data)*100\n",
    "isFraud"
   ]
  },
  {
   "cell_type": "code",
   "execution_count": 148,
   "id": "fa640a7b",
   "metadata": {
    "scrolled": true
   },
   "outputs": [
    {
     "data": {
      "text/plain": [
       "<AxesSubplot:ylabel='isFraud'>"
      ]
     },
     "execution_count": 148,
     "metadata": {},
     "output_type": "execute_result"
    },
    {
     "data": {
      "image/png": "[encoded data removed]",
      "text/plain": [
       "<Figure size 432x288 with 1 Axes>"
      ]
     },
     "metadata": {},
     "output_type": "display_data"
    }
   ],
   "source": [
    "isFraud['isFraud'].plot(kind='pie')"
   ]
  },
  {
   "cell_type": "markdown",
   "id": "47123e6a",
   "metadata": {},
   "source": [
    "### The transaction DateTime stamp can be used to get year month day information to see if there is a trend in fraud cases, but no pattern is observed"
   ]
  },
  {
   "cell_type": "code",
   "execution_count": 153,
   "id": "d0f93359",
   "metadata": {},
   "outputs": [],
   "source": [
    "data['transactionMonth'] = data['transactionDateTime'].dt.month\n",
    "data['transactionYear'] = data['transactionDateTime'].dt.year\n",
    "data['transactionDay'] = data['transactionDateTime'].dt.day\n",
    "data['transactionHour'] = data['transactionDateTime'].dt.hour"
   ]
  },
  {
   "cell_type": "code",
   "execution_count": 154,
   "id": "8f171e47",
   "metadata": {},
   "outputs": [
    {
     "data": {
      "text/plain": [
       "<AxesSubplot:>"
      ]
     },
     "execution_count": 154,
     "metadata": {},
     "output_type": "execute_result"
    },
    {
     "data": {
      "image/png": "[encoded data removed]",
      "text/plain": [
       "<Figure size 432x288 with 1 Axes>"
      ]
     },
     "metadata": {
      "needs_background": "light"
     },
     "output_type": "display_data"
    }
   ],
   "source": [
    "data[data['isFraud']==True]['transactionMonth'].value_counts().plot(kind='bar')"
   ]
  },
  {
   "cell_type": "code",
   "execution_count": 155,
   "id": "ca5459f1",
   "metadata": {
    "scrolled": true
   },
   "outputs": [
    {
     "data": {
      "text/plain": [
       "<AxesSubplot:>"
      ]
     },
     "execution_count": 155,
     "metadata": {},
     "output_type": "execute_result"
    },
    {
     "data": {
      "image/png": "[encoded data removed]",
      "text/plain": [
       "<Figure size 432x288 with 1 Axes>"
      ]
     },
     "metadata": {
      "needs_background": "light"
     },
     "output_type": "display_data"
    }
   ],
   "source": [
    "data[data['isFraud']==True]['transactionDay'].value_counts().plot(kind='bar')"
   ]
  },
  {
   "cell_type": "markdown",
   "id": "bcbc2006",
   "metadata": {},
   "source": [
    "### NaN values in the entire data and NaN values when it is a Fraud case"
   ]
  },
  {
   "cell_type": "code",
   "execution_count": 42,
   "id": "48830617",
   "metadata": {},
   "outputs": [
    {
     "name": "stdout",
     "output_type": "stream",
     "text": [
      "customerId                     0\n",
      "creditLimit                    0\n",
      "availableMoney                 0\n",
      "transactionDateTime            0\n",
      "transactionAmount              0\n",
      "merchantName                   0\n",
      "acqCountry                  4562\n",
      "merchantCountryCode          724\n",
      "posEntryMode                4054\n",
      "posConditionCode             409\n",
      "merchantCategoryCode           0\n",
      "currentExpDate                 0\n",
      "accountOpenDate                0\n",
      "dateOfLastAddressChange        0\n",
      "cardCVV                        0\n",
      "enteredCVV                     0\n",
      "cardLast4Digits                0\n",
      "transactionType              698\n",
      "currentBalance                 0\n",
      "cardPresent                    0\n",
      "expirationDateKeyInMatch       0\n",
      "isFraud                        0\n",
      "transactionMonth               0\n",
      "transactionYear                0\n",
      "transactionDay                 0\n",
      "transactionHour                0\n",
      "dtype: int64\n"
     ]
    }
   ],
   "source": [
    "print(data.isnull().sum())"
   ]
  },
  {
   "cell_type": "code",
   "execution_count": 43,
   "id": "cc9d1066",
   "metadata": {
    "scrolled": false
   },
   "outputs": [
    {
     "name": "stdout",
     "output_type": "stream",
     "text": [
      "customerId                    0\n",
      "creditLimit                   0\n",
      "availableMoney                0\n",
      "transactionDateTime           0\n",
      "transactionAmount             0\n",
      "merchantName                  0\n",
      "acqCountry                  149\n",
      "merchantCountryCode          82\n",
      "posEntryMode                269\n",
      "posConditionCode             22\n",
      "merchantCategoryCode          0\n",
      "currentExpDate                0\n",
      "accountOpenDate               0\n",
      "dateOfLastAddressChange       0\n",
      "cardCVV                       0\n",
      "enteredCVV                    0\n",
      "cardLast4Digits               0\n",
      "transactionType              14\n",
      "currentBalance                0\n",
      "cardPresent                   0\n",
      "expirationDateKeyInMatch      0\n",
      "isFraud                       0\n",
      "transactionMonth              0\n",
      "transactionYear               0\n",
      "transactionDay                0\n",
      "transactionHour               0\n",
      "dtype: int64\n"
     ]
    }
   ],
   "source": [
    "print(data[data['isFraud']==True].isnull().sum())"
   ]
  },
  {
   "cell_type": "markdown",
   "id": "22110fb1",
   "metadata": {},
   "source": [
    "### Since the number of Fraud cases is where small, cleaning rows having null value of \"Fruad=True\" cases will help us in retaining those rows and then we can drop the rows having NaN values of the majority class."
   ]
  },
  {
   "cell_type": "code",
   "execution_count": null,
   "id": "d41985c7",
   "metadata": {},
   "outputs": [],
   "source": []
  }
 ],
 "metadata": {
  "kernelspec": {
   "display_name": "Python 3 (ipykernel)",
   "language": "python",
   "name": "python3"
  },
  "language_info": {
   "codemirror_mode": {
    "name": "ipython",
    "version": 3
   },
   "file_extension": ".py",
   "mimetype": "text/x-python",
   "name": "python",
   "nbconvert_exporter": "python",
   "pygments_lexer": "ipython3",
   "version": "3.9.12"
  }
 },
 "nbformat": 4,
 "nbformat_minor": 5
}
